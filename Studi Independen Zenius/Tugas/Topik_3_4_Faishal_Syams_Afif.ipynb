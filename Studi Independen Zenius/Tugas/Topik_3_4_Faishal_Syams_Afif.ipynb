{
  "cells": [
    {
      "cell_type": "markdown",
      "metadata": {
        "id": "f6LjKU50-tD8"
      },
      "source": [
        "##Topic 3 - Python Structure & Data Type Assignment\n"
      ]
    },
    {
      "cell_type": "markdown",
      "metadata": {
        "id": "MPuR878HZEbx"
      },
      "source": [
        "# Data Type Declaration"
      ]
    },
    {
      "cell_type": "markdown",
      "metadata": {
        "id": "GyS5I54D-3K9"
      },
      "source": [
        "1. > Create an empty variable (Points : 5)"
      ]
    },
    {
      "cell_type": "code",
      "execution_count": null,
      "metadata": {
        "id": "jehesBY-_aKL"
      },
      "outputs": [],
      "source": [
        "#Code goes here\n",
        "my_variable = None\n",
        "my_list = []\n",
        "my_dict = {}\n",
        "# Membuat Variable dengan value kosong"
      ]
    },
    {
      "cell_type": "markdown",
      "metadata": {
        "id": "6zCz3qZ8_bu2"
      },
      "source": [
        "2. > Create a variable containing your name (Points : 5)"
      ]
    },
    {
      "cell_type": "code",
      "execution_count": null,
      "metadata": {
        "id": "1wT8jnI6_f-U",
        "colab": {
          "base_uri": "https://localhost:8080/"
        },
        "outputId": "3abceb76-9d08-4df9-b0ec-991f1eb877b6"
      },
      "outputs": [
        {
          "output_type": "stream",
          "name": "stdout",
          "text": [
            "Isal\n",
            "Faishal Syams\n"
          ]
        }
      ],
      "source": [
        "#Code goes here\n",
        "nama_panggilan = \"Isal\"\n",
        "# membuat variable dengan value Isal\n",
        "first_name = \"Faishal\"\n",
        "last_name = \"Syams\"\n",
        "nama_lengkap = first_name + \" \" + last_name\n",
        "# menggabungkan variable first_name dan last_name\n",
        "\n",
        "print(nama_panggilan)\n",
        "print(nama_lengkap)"
      ]
    },
    {
      "cell_type": "markdown",
      "metadata": {
        "id": "ApatE8m__2Ud"
      },
      "source": [
        "3. > Create a list of 5 items you can find in the classroom (Points : 5)"
      ]
    },
    {
      "cell_type": "code",
      "execution_count": null,
      "metadata": {
        "id": "-Q0Ynqx1_6hF",
        "colab": {
          "base_uri": "https://localhost:8080/"
        },
        "outputId": "405d2a44-78ad-4cf5-b8cf-adfcb5554118"
      },
      "outputs": [
        {
          "output_type": "stream",
          "name": "stdout",
          "text": [
            "['whiteboard', 'desk', 'chair', 'bookshelf', 'clock']\n"
          ]
        }
      ],
      "source": [
        "#Code goes here\n",
        "classroom_items = [\"whiteboard\", \"desk\", \"chair\", \"bookshelf\", \"clock\"]\n",
        "\n",
        "print(classroom_items)"
      ]
    },
    {
      "cell_type": "markdown",
      "metadata": {
        "id": "6FwMmy_9AS5N"
      },
      "source": [
        "4. > Create a dictionary containing 2 keys and value (Points : 5)"
      ]
    },
    {
      "cell_type": "code",
      "execution_count": null,
      "metadata": {
        "id": "xLc2AlhtASOm",
        "colab": {
          "base_uri": "https://localhost:8080/"
        },
        "outputId": "91ba310a-1be9-481f-b6e8-9f437147bb96"
      },
      "outputs": [
        {
          "output_type": "stream",
          "name": "stdout",
          "text": [
            "{'Name': 'Badia', 'gender': 'Female'}\n"
          ]
        }
      ],
      "source": [
        "#Code goes here\n",
        "my_dict = { \"Name\" : 'Badia', 'gender':'Female'}\n",
        "\n",
        "print(my_dict)"
      ]
    },
    {
      "cell_type": "markdown",
      "metadata": {
        "id": "6AqPfAS7a1Oi"
      },
      "source": [
        "# Basic Data Operation"
      ]
    },
    {
      "cell_type": "markdown",
      "metadata": {
        "id": "-ZZF1cXlbqkJ"
      },
      "source": [
        "You sold 20 pieces of electronics at the price of 12000. The customer gets a total discount of 10%.\n",
        "\n",
        "Below are those variables:\n",
        "\n",
        "1.   price=12000\n",
        "2.   quantity_sold=20\n",
        "3.   discount=10%\n",
        "\n",
        "\n",
        "Using Python code, write the code the find the total money that the customer to pay. (Points : 15)"
      ]
    },
    {
      "cell_type": "code",
      "execution_count": null,
      "metadata": {
        "id": "90T0A2HvbcCK",
        "colab": {
          "base_uri": "https://localhost:8080/"
        },
        "outputId": "1d17ca0f-5ca0-41fe-e835-3e22348a54fd"
      },
      "outputs": [
        {
          "output_type": "stream",
          "name": "stdout",
          "text": [
            "Total price:  240000\n",
            "Discount amount:  24000.0\n",
            "Final price:  216000.0\n"
          ]
        }
      ],
      "source": [
        "#Code goes here\n",
        "\n",
        "price = 12000\n",
        "quantity_sold = 20\n",
        "discount = 0.1\n",
        "\n",
        "total_harga = price * quantity_sold\n",
        "discount_amount = total_harga * discount\n",
        "harga_setelah_discount = total_harga - discount_amount\n",
        "# (12000 * 20 ) * 0.1\n",
        "\n",
        "print(\"Total price: \", total_harga)\n",
        "print(\"Discount amount: \", discount_amount)\n",
        "print(\"Final price: \", harga_setelah_discount)\n",
        "# final price adalah harga yang harus pembeli bayar"
      ]
    },
    {
      "cell_type": "markdown",
      "metadata": {
        "id": "G-HHsg4la6mJ"
      },
      "source": [
        "# List Data Operation"
      ]
    },
    {
      "cell_type": "markdown",
      "metadata": {
        "id": "NdoSjVZ4Zbqg"
      },
      "source": [
        "5. > Follow the instructions in the code blocks\n",
        "\n",
        "\n",
        "\n"
      ]
    },
    {
      "cell_type": "code",
      "execution_count": null,
      "metadata": {
        "id": "xsFxlZGLaQ7y"
      },
      "outputs": [],
      "source": [
        "# Create list of countries in the world (total 7 countries) (Points : 5)\n",
        "\n",
        "#Code goes here\n",
        "\n",
        "countries = [\"Indonesia\", \"China\", \"Japan\", \"Malaysia\", \"Thailand\", \"Singapur\", \"Vietnam\"]\n"
      ]
    },
    {
      "cell_type": "code",
      "execution_count": null,
      "metadata": {
        "id": "6Se125DabJ6R",
        "colab": {
          "base_uri": "https://localhost:8080/"
        },
        "outputId": "7beb48a1-0641-425c-9ff8-87e517a6d2f1"
      },
      "outputs": [
        {
          "output_type": "stream",
          "name": "stdout",
          "text": [
            "['Indonesia', 'China', 'Japan', 'Malaysia']\n",
            "['Indonesia', 'China', 'Japan', 'Malaysia']\n"
          ]
        }
      ],
      "source": [
        "# Get 4 countries from the first index of the list (Points : 5)\n",
        "\n",
        "#Code goes here\n",
        "EmpatNegaraPertama = countries[0:4]\n",
        "\n",
        "print(EmpatNegaraPertama)\n",
        "# atau\n",
        "print(countries[0:4])\n",
        "\n"
      ]
    },
    {
      "cell_type": "code",
      "execution_count": null,
      "metadata": {
        "id": "FSU5QfExbKAh",
        "colab": {
          "base_uri": "https://localhost:8080/"
        },
        "outputId": "b5ab3d9f-32fe-4bf5-b374-4bd54559336a"
      },
      "outputs": [
        {
          "output_type": "stream",
          "name": "stdout",
          "text": [
            "['Indonesia', 'China', 'Japan', 'Malaysia', 'Thailand', 'Singapur', 'Vietnam', 'Korea', 'Korea Utara', 'Korea Selatan']\n"
          ]
        }
      ],
      "source": [
        "# Append new country to the list (Points : 5)\n",
        "\n",
        "#Code goes here\n",
        "\n",
        "new_country = \"Korea Utara\"\n",
        "\n",
        "countries.append(new_country)\n",
        "# atau\n",
        "countries.append('Korea Selatan')\n",
        "\n",
        "print(countries)"
      ]
    },
    {
      "cell_type": "code",
      "execution_count": null,
      "metadata": {
        "id": "DlvXbKlnbKGR",
        "colab": {
          "base_uri": "https://localhost:8080/"
        },
        "outputId": "aff0d41d-bc63-4326-9092-1e3133a01fec"
      },
      "outputs": [
        {
          "output_type": "stream",
          "name": "stdout",
          "text": [
            "['Indonesia', 'China', 'Japan', 'Malaysia', 'Thailand', 'Singapur', 'Vietnam', 'Korea Utara', 'Korea Selatan']\n"
          ]
        }
      ],
      "source": [
        "# Drop one country from the list (Points : 5)\n",
        "\n",
        "#Code goes here\n",
        "\n",
        "country_to_remove = \"Korea\"\n",
        "\n",
        "countries.remove(country_to_remove)\n",
        "# atau\n",
        "countries.remove(\"Korea\")\n",
        "\n",
        "print(countries)"
      ]
    },
    {
      "cell_type": "code",
      "execution_count": null,
      "metadata": {
        "id": "F1NJ6JCQbKJ7",
        "colab": {
          "base_uri": "https://localhost:8080/"
        },
        "outputId": "2e5a0812-8e97-4315-a929-e34b52c9f8c9"
      },
      "outputs": [
        {
          "output_type": "stream",
          "name": "stdout",
          "text": [
            "Korea Selatan\n",
            "Korea Selatan\n",
            "Korea Selatan\n"
          ]
        }
      ],
      "source": [
        "# Get country in the last index (Points : 5)\n",
        "\n",
        "#Code goes here\n",
        "\n",
        "last_country = countries[8]\n",
        "# atau\n",
        "last_country2= countries[-1]\n",
        "# atau\n",
        "print(countries[-1])\n",
        "\n",
        "print(last_country)\n",
        "print(last_country2)\n"
      ]
    },
    {
      "cell_type": "markdown",
      "metadata": {
        "id": "Kfkq-SmIdJR6"
      },
      "source": [
        "# Dictionary Data Operation"
      ]
    },
    {
      "cell_type": "markdown",
      "metadata": {
        "id": "WyJ8CJzdeMiS"
      },
      "source": [
        "6. >  Follow the instructions below\n",
        "\n",
        "\n",
        "\n"
      ]
    },
    {
      "cell_type": "code",
      "execution_count": null,
      "metadata": {
        "id": "fVHYIKLwdMfq"
      },
      "outputs": [],
      "source": [
        "# Given the dictionary below\n",
        "\n",
        "customer={\n",
        "    \"name\":['Dio','Eka','Wayu','Riki'],\n",
        "    \"age\":[20,19,24,39],\n",
        "    \"gender\":[1,0,0,1],\n",
        "    \"membership\":['Platinum','Gold','Silver','Silver']\n",
        "}"
      ]
    },
    {
      "cell_type": "code",
      "execution_count": null,
      "metadata": {
        "id": "LpRVtz4_eJK5",
        "colab": {
          "base_uri": "https://localhost:8080/"
        },
        "outputId": "c2bbd544-7920-42dc-944e-dc7503f9620d"
      },
      "outputs": [
        {
          "output_type": "stream",
          "name": "stdout",
          "text": [
            "dict_keys(['name', 'age', 'gender', 'membership'])\n",
            "dict_keys(['name', 'age', 'gender', 'membership'])\n"
          ]
        }
      ],
      "source": [
        "# Print all keys in customer (Points : 5)\n",
        "\n",
        "#Code goes here\n",
        "\n",
        "keys = customer.keys()\n",
        "\n",
        "print(keys)\n",
        "\n",
        "# atau\n",
        "\n",
        "print(customer.keys())"
      ]
    },
    {
      "cell_type": "code",
      "execution_count": null,
      "metadata": {
        "id": "QiEMM94FeYrz",
        "colab": {
          "base_uri": "https://localhost:8080/"
        },
        "outputId": "1fad1c42-6fd5-4404-db7d-78dcaf6554e8"
      },
      "outputs": [
        {
          "output_type": "stream",
          "name": "stdout",
          "text": [
            "['Dio', 'Eka', 'Wayu', 'Riki']\n",
            "['Dio', 'Eka', 'Wayu', 'Riki']\n"
          ]
        }
      ],
      "source": [
        "# Print all customer names (Points : 5)\n",
        "\n",
        "\n",
        "#Code goes here\n",
        "\n",
        "print(customer[\"name\"])\n",
        "\n",
        "# or\n",
        "\n",
        "names = customer[\"name\"]\n",
        "\n",
        "print(names)"
      ]
    },
    {
      "cell_type": "code",
      "execution_count": null,
      "metadata": {
        "id": "P2SeErUGgQ-D",
        "colab": {
          "base_uri": "https://localhost:8080/"
        },
        "outputId": "9d06c361-5ef9-40b4-cf66-8f769d89c98f"
      },
      "outputs": [
        {
          "output_type": "stream",
          "name": "stdout",
          "text": [
            "Dio\n",
            "Dio\n"
          ]
        }
      ],
      "source": [
        "# Print the first customer name (Points : 5)\n",
        "\n",
        "#Code goes here\n",
        "first_customer = customer['name'][0]\n",
        "\n",
        "print(first_customer)\n",
        "# atau\n",
        "print(customer[\"name\"][0])"
      ]
    },
    {
      "cell_type": "code",
      "execution_count": null,
      "metadata": {
        "id": "c3PlmHxueiPy"
      },
      "outputs": [],
      "source": [
        "# Drop \"age\" key from the dictionary (Points : 5)\n",
        "\n",
        "#Code goes here\n",
        "del customer[\"age\"]"
      ]
    },
    {
      "cell_type": "code",
      "execution_count": null,
      "metadata": {
        "colab": {
          "base_uri": "https://localhost:8080/"
        },
        "id": "fEYajoWx_oNl",
        "outputId": "ba4fb2da-9e8c-4f79-8987-b8b855a963b8"
      },
      "outputs": [
        {
          "output_type": "stream",
          "name": "stdout",
          "text": [
            "{'name': ['Dio', 'Eka', 'Wayu', 'Riki'], 'gender': [1, 0, 0, 1], 'membership': ['Platinum', 'Gold', 'Silver', 'Silver']}\n"
          ]
        }
      ],
      "source": [
        "print(customer)"
      ]
    },
    {
      "cell_type": "code",
      "execution_count": null,
      "metadata": {
        "id": "FgXDh9mIea9x",
        "colab": {
          "base_uri": "https://localhost:8080/"
        },
        "outputId": "fdb5d020-df62-4a64-df17-2edfe74e8348"
      },
      "outputs": [
        {
          "output_type": "stream",
          "name": "stdout",
          "text": [
            "{'name': ['Dio', 'Eka', 'Wayu', 'Riki'], 'age': [20, 19, 24, 39], 'gender': [1, 0, 0, 1], 'membership': ['Platinum', 'Gold', 'Silver', 'Silver']}\n"
          ]
        }
      ],
      "source": [
        "# Replace customer gender list value (Points : 20)\n",
        "# gender 1 => Male\n",
        "# gender 0 => Female\n",
        "\n",
        "\n",
        "#Code goes here\n",
        "\n",
        "# replace\n",
        "customer = {\n",
        "    \"name\": ['Dio', 'Eka', 'Wayu', 'Riki'],\n",
        "    \"age\": [20, 19, 24, 39],\n",
        "    \"gender\": ['Male', 'Female', 'Female', 'Male'],\n",
        "    \"membership\": ['Platinum', 'Gold', 'Silver', 'Silver']\n",
        "}\n",
        "\n",
        "\n",
        "for i in range(len(customer[\"gender\"])):\n",
        "    if customer[\"gender\"][i] == \"Male\":\n",
        "        customer[\"gender\"][i] = 1\n",
        "    elif customer[\"gender\"][i] == \"Female\":\n",
        "        customer[\"gender\"][i] = 0\n",
        "    else:\n",
        "      pass\n",
        "print(customer)\n"
      ]
    },
    {
      "cell_type": "code",
      "source": [
        "range(len(customer[\"gender\"]))\n",
        "# mengubah data type gender yang asalnya string menjadi integer"
      ],
      "metadata": {
        "colab": {
          "base_uri": "https://localhost:8080/"
        },
        "id": "gUmyRpXkC8vi",
        "outputId": "58a14aad-8d3e-4922-c313-d396d88a52ff"
      },
      "execution_count": null,
      "outputs": [
        {
          "output_type": "execute_result",
          "data": {
            "text/plain": [
              "range(0, 4)"
            ]
          },
          "metadata": {},
          "execution_count": 54
        }
      ]
    }
  ],
  "metadata": {
    "colab": {
      "provenance": []
    },
    "kernelspec": {
      "display_name": "Python 3",
      "name": "python3"
    },
    "language_info": {
      "codemirror_mode": {
        "name": "ipython",
        "version": 3
      },
      "file_extension": ".py",
      "mimetype": "text/x-python",
      "name": "python",
      "nbconvert_exporter": "python",
      "pygments_lexer": "ipython3",
      "version": "3.11.2"
    }
  },
  "nbformat": 4,
  "nbformat_minor": 0
}